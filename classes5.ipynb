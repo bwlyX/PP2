{
 "cells": [
  {
   "cell_type": "code",
   "execution_count": null,
   "id": "a249afc0-1bf5-4d88-8ae6-33d5cd5ac885",
   "metadata": {},
   "outputs": [],
   "source": [
    "#Create a bank account class that has attributes owner,balance and two methods deposit and withdraw. \n",
    "#Withdrawals may not exceed the available balance. \n",
    "#Instantiate your class, make several deposits and withdrawals, and test to make sure the account can't be overdrawn.\n",
    "\n",
    "class bankAccount:\n",
    "    def __init__(self, owner = \"\", balance = 0):\n",
    "        self.balance = balance\n",
    "        self.owner = owner\n",
    "\n",
    "    def deposit(self):\n",
    "        aqshaqosu = int(input(\"Сумма депозита: \"))\n",
    "        self.balance += aqshaqosu\n",
    "        print(\"Успешно!\")\n",
    "        print(f\"Ваш текущий баланс(тг): {self.balance}\")\n",
    "    \n",
    "    def withdraww(self):\n",
    "        withdraw = int(input(\"Сумма вывода: \"))\n",
    "        if withdraw > self.balance:\n",
    "            print(\"Недостаточно средств!\")\n",
    "        else:\n",
    "            self.balance -= withdraw\n",
    "            print(\"Успешно!\")\n",
    "            print(f\"Ваш текущий баланс: {self.balance}\")\n",
    "\n",
    "bankOperation = bankAccount(input(\"ФИО:\"), int(input(\"Введите ваш баланс: \")))\n",
    "while True:\n",
    "    typeoper = input(\"Введите тип операции (Withdraw/Deposit/Exit): \")\n",
    "    if typeoper == \"Withdraw\":\n",
    "        bankOperation.withdraww()\n",
    "    elif typeoper == \"Deposit\":\n",
    "        bankOperation.deposit()\n",
    "    elif typeoper == \"Exit\":\n",
    "        break\n",
    "    else:\n",
    "        print(\"Неправильный ввод операции.\")"
   ]
  }
 ],
 "metadata": {
  "kernelspec": {
   "display_name": "Python [conda env:base] *",
   "language": "python",
   "name": "conda-base-py"
  },
  "language_info": {
   "codemirror_mode": {
    "name": "ipython",
    "version": 3
   },
   "file_extension": ".py",
   "mimetype": "text/x-python",
   "name": "python",
   "nbconvert_exporter": "python",
   "pygments_lexer": "ipython3",
   "version": "3.12.7"
  }
 },
 "nbformat": 4,
 "nbformat_minor": 5
}
