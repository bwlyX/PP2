{
 "cells": [
  {
   "cell_type": "code",
   "execution_count": 3,
   "id": "8eac15d4-f6d3-4ce9-86eb-560c4efd7d69",
   "metadata": {},
   "outputs": [
    {
     "name": "stdin",
     "output_type": "stream",
     "text": [
      " pony\n"
     ]
    },
    {
     "name": "stdout",
     "output_type": "stream",
     "text": [
      "it is not a Palindrome\n"
     ]
    }
   ],
   "source": [
    "#Write a Python function that checks whether a word or phrase is palindrome or not. \n",
    "#Note: A palindrome is word, phrase, or sequence that reads the same backward as forward, e.g., madam\n",
    "\n",
    "def isPalindrome(s):\n",
    "    s=s.lower()\n",
    "    return s==s[::-1]\n",
    "\n",
    "s=input()\n",
    "if isPalindrome(s):\n",
    "    print(\"it is Palindrome\")\n",
    "else:\n",
    "    print(\"it is not a Palindrome\")"
   ]
  },
  {
   "cell_type": "code",
   "execution_count": null,
   "id": "ca5a2547-b5d4-48b1-85d9-645fc4596f6f",
   "metadata": {},
   "outputs": [],
   "source": []
  }
 ],
 "metadata": {
  "kernelspec": {
   "display_name": "Python [conda env:base] *",
   "language": "python",
   "name": "conda-base-py"
  },
  "language_info": {
   "codemirror_mode": {
    "name": "ipython",
    "version": 3
   },
   "file_extension": ".py",
   "mimetype": "text/x-python",
   "name": "python",
   "nbconvert_exporter": "python",
   "pygments_lexer": "ipython3",
   "version": "3.12.7"
  }
 },
 "nbformat": 4,
 "nbformat_minor": 5
}
