{
 "cells": [
  {
   "cell_type": "code",
   "execution_count": null,
   "id": "d88dff22-02e3-4c38-b827-890354d19d82",
   "metadata": {},
   "outputs": [],
   "source": [
    "#Write a program able to play the \"Guess the number\" - game, where the number \n",
    "#to be guessed is randomly chosen between 1 and 20. This is how it should work when run in a terminal:\n",
    "\n",
    "\"\"\"\n",
    "Hello! What is your name?\n",
    "KBTU\n",
    "\n",
    "Well, KBTU, I am thinking of a number between 1 and 20.\n",
    "Take a guess.\n",
    "12\n",
    "\n",
    "Your guess is too low.\n",
    "Take a guess.\n",
    "16\n",
    "\n",
    "Your guess is too low.\n",
    "Take a guess.\n",
    "19\n",
    "\n",
    "Good job, KBTU! You guessed my number in 3 guesses!\n",
    "\"\"\"\n",
    "import random\n",
    "print(\"Hello! What is your name?\")\n",
    "name=input()\n",
    "print(\"Well, \" + name +  \", I am thinking of a number between 1 and 20.\")\n",
    "print(\"Take a guess\")\n",
    "r=random.randint(1, 20)\n",
    "cnt=0\n",
    "while True:\n",
    "    n=int(input())\n",
    "    if n<r:\n",
    "        print(\"Your guess is too low.\")\n",
    "        print(\"Take a guess\")\n",
    "        cnt+=1\n",
    "    elif n>r:\n",
    "        print(\"Your guess is too high.\")\n",
    "        print(\"Take a guess\")\n",
    "        cnt+=1\n",
    "    elif n==r:\n",
    "        cnt+=1\n",
    "        break\n",
    "print(\"Good job, \" + name + \"! You guessed my number in \" + str(cnt) + \" guesses!\")\n",
    "\n"
   ]
  }
 ],
 "metadata": {
  "kernelspec": {
   "display_name": "Python [conda env:base] *",
   "language": "python",
   "name": "conda-base-py"
  },
  "language_info": {
   "codemirror_mode": {
    "name": "ipython",
    "version": 3
   },
   "file_extension": ".py",
   "mimetype": "text/x-python",
   "name": "python",
   "nbconvert_exporter": "python",
   "pygments_lexer": "ipython3",
   "version": "3.12.7"
  }
 },
 "nbformat": 4,
 "nbformat_minor": 5
}
