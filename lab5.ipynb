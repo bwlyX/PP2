{
 "cells": [
  {
   "cell_type": "code",
   "execution_count": 3,
   "id": "17e6e987-efdf-4b06-8c79-9a27e4b4de6f",
   "metadata": {},
   "outputs": [],
   "source": [
    "#import re\n",
    "\n",
    "#pattern = r'ab*'\n",
    "#test_strings = [\"a\", \"ab\", \"abb\", \"ac\", \"abc\"]\n",
    "#for s in test_strings:\n",
    "#    print(f\"{s}: {bool(re.fullmatch(pattern, s))}\")"
   ]
  },
  {
   "cell_type": "code",
   "execution_count": null,
   "id": "a018fe04-d7cd-4d5a-bb11-c6815395671a",
   "metadata": {},
   "outputs": [],
   "source": [
    "#import re\n",
    "\n",
    "#pattern = r'ab{2,3}'\n",
    "#test_strings = [\"abb\", \"abbb\", \"a\", \"ab\", \"abbbb\"]\n",
    "#for s in test_strings:\n",
    "#    print(f\"{s}: {bool(re.fullmatch(pattern, s))}\")"
   ]
  },
  {
   "cell_type": "code",
   "execution_count": null,
   "id": "923c7e36-4b43-4711-b5d9-f56236b5111d",
   "metadata": {},
   "outputs": [],
   "source": [
    "#import re\n",
    "\n",
    "#pattern = r'[a-z]+_[a-z]+'\n",
    "#test_strings = [\"hello_world\", \"helloWorld\", \"abc_def_ghi\", \"_underscore\"]\n",
    "#for s in test_strings:\n",
    "#   print(f\"{s}: {bool(re.search(pattern, s))}\")"
   ]
  },
  {
   "cell_type": "code",
   "execution_count": null,
   "id": "9829b60e-74b4-4fdf-988d-ce1893750de1",
   "metadata": {},
   "outputs": [],
   "source": [
    "#import re\n",
    "\n",
    "#pattern = r'[A-Z][a-z]+'\n",
    "#test_strings = [\"Hello\", \"hello\", \"A\", \"ABC\", \"Python\"]\n",
    "#for s in test_strings:\n",
    "#    print(f\"{s}: {bool(re.fullmatch(pattern, s))}\")"
   ]
  },
  {
   "cell_type": "code",
   "execution_count": null,
   "id": "46eb3dbb-4d9e-46ce-9bbc-943e957fffc0",
   "metadata": {},
   "outputs": [],
   "source": [
    "#import re\n",
    "\n",
    "#pattern = r'a.*b$'\n",
    "#test_strings = [\"ab\", \"acb\", \"a123b\", \"abc\", \"a_b\"]\n",
    "#for s in test_strings:\n",
    "#    print(f\"{s}: {bool(re.fullmatch(pattern, s))}\")"
   ]
  },
  {
   "cell_type": "code",
   "execution_count": null,
   "id": "70250ce9-8631-4903-9e4a-835566bc3710",
   "metadata": {},
   "outputs": [],
   "source": [
    "#import re\n",
    "\n",
    "#text = \"Hello, world. How are you?\"\n",
    "#pattern = r'[ ,.]'\n",
    "#result = re.sub(pattern, \":\", text)\n",
    "#print(result)"
   ]
  },
  {
   "cell_type": "code",
   "execution_count": null,
   "id": "69ef8f42-89c1-4f17-825c-efbb6f4a640e",
   "metadata": {},
   "outputs": [],
   "source": [
    "#import re\n",
    "\n",
    "#def snake_to_camel(snake_str):\n",
    "#    return ''.join(word.capitalize() if i > 0 else word for i, word in enumerate(snake_str.split('_')))\n",
    "\n",
    "#print(snake_to_camel(\"hello_world\"))"
   ]
  },
  {
   "cell_type": "code",
   "execution_count": null,
   "id": "177d1911-ba33-4cd2-88f7-03ba79e22988",
   "metadata": {},
   "outputs": [],
   "source": [
    "#import re\n",
    "\n",
    "#pattern = r'(?=[A-Z])'\n",
    "#text = \"HelloWorldPython\"\n",
    "#result = re.split(pattern, text)\n",
    "#print(result)"
   ]
  },
  {
   "cell_type": "code",
   "execution_count": null,
   "id": "71b7ff00-7ad0-4831-8358-f7ba142efebb",
   "metadata": {},
   "outputs": [],
   "source": [
    "#import re\n",
    "\n",
    "#text = \"HelloWorldPython\"\n",
    "#result = re.sub(r'([a-z])([A-Z])', r'\\1 \\2', text)\n",
    "#print(result)"
   ]
  },
  {
   "cell_type": "code",
   "execution_count": null,
   "id": "d98796d2-d2f6-470b-91ed-3e9401ed63a4",
   "metadata": {},
   "outputs": [],
   "source": [
    "#import re\n",
    "\n",
    "#def camel_to_snake(camel_str):\n",
    "#    return re.sub(r'([a-z])([A-Z])', r'\\1_\\2', camel_str).lower()\n",
    "\n",
    "#print(camel_to_snake(\"helloWorld\"))"
   ]
  }
 ],
 "metadata": {
  "kernelspec": {
   "display_name": "Python [conda env:base] *",
   "language": "python",
   "name": "conda-base-py"
  },
  "language_info": {
   "codemirror_mode": {
    "name": "ipython",
    "version": 3
   },
   "file_extension": ".py",
   "mimetype": "text/x-python",
   "name": "python",
   "nbconvert_exporter": "python",
   "pygments_lexer": "ipython3",
   "version": "3.12.7"
  }
 },
 "nbformat": 4,
 "nbformat_minor": 5
}
