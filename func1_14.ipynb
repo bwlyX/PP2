{
 "cells": [
  {
   "cell_type": "code",
   "execution_count": 1,
   "id": "226b01b0-f121-4618-a354-48bd04ab901c",
   "metadata": {},
   "outputs": [
    {
     "name": "stdout",
     "output_type": "stream",
     "text": [
      "Hello! What is your name?\n"
     ]
    },
    {
     "name": "stdin",
     "output_type": "stream",
     "text": [
      " bex\n"
     ]
    },
    {
     "name": "stdout",
     "output_type": "stream",
     "text": [
      "Well, bex, I am thinking of a number between 1 and 20.\n",
      "Take a guess\n"
     ]
    },
    {
     "name": "stdin",
     "output_type": "stream",
     "text": [
      " 17\n"
     ]
    },
    {
     "name": "stdout",
     "output_type": "stream",
     "text": [
      "Your guess is too high.\n",
      "Take a guess\n"
     ]
    },
    {
     "name": "stdin",
     "output_type": "stream",
     "text": [
      " 8\n"
     ]
    },
    {
     "name": "stdout",
     "output_type": "stream",
     "text": [
      "Your guess is too low.\n",
      "Take a guess\n"
     ]
    },
    {
     "name": "stdin",
     "output_type": "stream",
     "text": [
      " 11\n"
     ]
    },
    {
     "name": "stdout",
     "output_type": "stream",
     "text": [
      "Good job, bex! You guessed my number in 3 guesses!\n"
     ]
    }
   ],
   "source": [
    "#Create a python file and import some of the functions from the above 13 tasks and try to use them.\n",
    "\n",
    "import random\n",
    "\n",
    "def guessnumber():\n",
    "    print(\"Hello! What is your name?\")\n",
    "    name=input()\n",
    "    print(\"Well, \" + name +  \", I am thinking of a number between 1 and 20.\")\n",
    "    print(\"Take a guess\")\n",
    "    r=random.randint(1, 20)\n",
    "    cnt=0\n",
    "    while True:\n",
    "        n=int(input())\n",
    "        if n<r:\n",
    "            print(\"Your guess is too low.\")\n",
    "            print(\"Take a guess\")\n",
    "            cnt+=1\n",
    "        elif n>r:\n",
    "            print(\"Your guess is too high.\")\n",
    "            print(\"Take a guess\")\n",
    "            cnt+=1\n",
    "        elif n==r:\n",
    "            cnt+=1\n",
    "            break\n",
    "    print(\"Good job, \" + name + \"! You guessed my number in \" + str(cnt) + \" guesses!\")\n",
    "\n",
    "guessnumber()"
   ]
  },
  {
   "cell_type": "code",
   "execution_count": null,
   "id": "1e5ecaa9-a257-4548-93a4-7bb1ce24a0fa",
   "metadata": {},
   "outputs": [],
   "source": []
  }
 ],
 "metadata": {
  "kernelspec": {
   "display_name": "Python [conda env:base] *",
   "language": "python",
   "name": "conda-base-py"
  },
  "language_info": {
   "codemirror_mode": {
    "name": "ipython",
    "version": 3
   },
   "file_extension": ".py",
   "mimetype": "text/x-python",
   "name": "python",
   "nbconvert_exporter": "python",
   "pygments_lexer": "ipython3",
   "version": "3.12.7"
  }
 },
 "nbformat": 4,
 "nbformat_minor": 5
}
