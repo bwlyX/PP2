{
 "cells": [
  {
   "cell_type": "code",
   "execution_count": 1,
   "id": "74cf47a4-0344-4237-a1a9-77f0e279bb2d",
   "metadata": {},
   "outputs": [
    {
     "name": "stdout",
     "output_type": "stream",
     "text": [
      "23.0 12.0\n"
     ]
    }
   ],
   "source": [
    "#Write a program to solve a classic puzzle: We count 35 heads and 94 legs among the chickens and rabbits in a farm. \n",
    "#How many rabbits and how many chickens do we have? create function: solve(numheads, numlegs):\n",
    "\n",
    "def solve(numheads, numlegs):\n",
    "    rabbits=(numlegs-(2*numheads))/2\n",
    "    chickens=numheads-rabbits\n",
    "    print(chickens, rabbits)\n",
    "\n",
    "heads=35\n",
    "legs=94\n",
    "solve(heads, legs)"
   ]
  },
  {
   "cell_type": "code",
   "execution_count": null,
   "id": "602e9548-0b35-4427-bca1-73feb86f83db",
   "metadata": {},
   "outputs": [],
   "source": []
  }
 ],
 "metadata": {
  "kernelspec": {
   "display_name": "Python [conda env:base] *",
   "language": "python",
   "name": "conda-base-py"
  },
  "language_info": {
   "codemirror_mode": {
    "name": "ipython",
    "version": 3
   },
   "file_extension": ".py",
   "mimetype": "text/x-python",
   "name": "python",
   "nbconvert_exporter": "python",
   "pygments_lexer": "ipython3",
   "version": "3.12.7"
  }
 },
 "nbformat": 4,
 "nbformat_minor": 5
}
