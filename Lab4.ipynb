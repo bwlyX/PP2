{
 "cells": [
  {
   "cell_type": "code",
   "execution_count": 1,
   "id": "85514686-c33c-4097-8e75-cf398ad7bfb2",
   "metadata": {},
   "outputs": [],
   "source": [
    "#DATE EXERCISES"
   ]
  },
  {
   "cell_type": "code",
   "execution_count": 3,
   "id": "88c75df0-b424-4800-8c05-7160ab4a6790",
   "metadata": {},
   "outputs": [
    {
     "name": "stdout",
     "output_type": "stream",
     "text": [
      "2025-02-06 13:42:18.725014\n"
     ]
    }
   ],
   "source": [
    "#Write a Python program to subtract five days from current date.\n",
    "#import datetime\n",
    "#x = datetime.datetime.now()\n",
    "#a = x - datetime.timedelta(days=5)\n",
    "#print(a)"
   ]
  },
  {
   "cell_type": "code",
   "execution_count": 5,
   "id": "a4830542-4ad7-4a82-88a5-357dce6bf2a3",
   "metadata": {},
   "outputs": [
    {
     "name": "stdout",
     "output_type": "stream",
     "text": [
      "2025-02-10 13:42:27.664237\n",
      "2025-02-11 13:42:27.664237\n",
      "2025-02-12 13:42:27.664237\n"
     ]
    }
   ],
   "source": [
    "#Write a Python program to print yesterday, today, tomorrow.\n",
    "#import datetime\n",
    "#today = datetime.datetime.now()\n",
    "#tomorrow = today + datetime.timedelta(days=1)\n",
    "#yesterday = today - datetime.timedelta(days=1)\n",
    "#print(yesterday)\n",
    "#print(today)\n",
    "#print(tomorrow)"
   ]
  },
  {
   "cell_type": "code",
   "execution_count": 7,
   "id": "4f60a4a5-280e-449e-9399-0cb908473bc8",
   "metadata": {},
   "outputs": [
    {
     "name": "stdout",
     "output_type": "stream",
     "text": [
      "2025-02-11 13:42:34\n"
     ]
    }
   ],
   "source": [
    "#Write a Python program to drop microseconds from datetime.\n",
    "#import datetime\n",
    "#x = datetime.datetime.now()\n",
    "#m = x.replace(microsecond=0)\n",
    "#print(m)"
   ]
  },
  {
   "cell_type": "code",
   "execution_count": 9,
   "id": "4ef2dc04-de7e-4bbe-9d3a-a08114b66511",
   "metadata": {},
   "outputs": [
    {
     "name": "stdout",
     "output_type": "stream",
     "text": [
      "35683734.0\n"
     ]
    }
   ],
   "source": [
    "#Write a Python program to calculate two date difference in seconds.\n",
    "##from datetime import *\n",
    "#current = datetime(2022, 12, 11, 13, 24, 15)\n",
    "#second = datetime(2021, 10, 24, 13, 15, 21)\n",
    "#difference = current - second\n",
    "#total = difference.total_seconds()\n",
    "#print(total)"
   ]
  },
  {
   "cell_type": "code",
   "execution_count": null,
   "id": "bb529857-0bcb-46f0-9c28-d1a385c18608",
   "metadata": {},
   "outputs": [],
   "source": [
    "#Write a program using generator to print the even numbers \n",
    "#between 0 and n in comma separated form where n is input from console.\n",
    "#def evens(n):\n",
    "#    for i in range(0, n+1):\n",
    "#        if i%2==0:\n",
    "#            yield i\n",
    "#n=int(input())\n",
    "#my_nums=evens(n)\n",
    "#print(list(my_nums))"
   ]
  },
  {
   "cell_type": "code",
   "execution_count": 11,
   "id": "9f0bc534-c072-4b2c-a04b-a6fa22aed4ff",
   "metadata": {},
   "outputs": [],
   "source": [
    "#GENERATORS EXERCISES"
   ]
  },
  {
   "cell_type": "code",
   "execution_count": null,
   "id": "a85acc11-5e93-4a07-b651-8018523a4237",
   "metadata": {},
   "outputs": [],
   "source": [
    "#Define a function with a generator which can iterate the numbers, \n",
    "#which are divisible by 3 and 4, between a given range 0 and n.\n",
    "#def num(n):\n",
    "#    for i in range(0, n+1):\n",
    "#        if i%3==0 and i%4==0:\n",
    "#           yield i       \n",
    "#divisible = num(100)\n",
    "#for i in range(9):\n",
    "#    print(next(divisible))"
   ]
  },
  {
   "cell_type": "code",
   "execution_count": null,
   "id": "972ed89f-bdc2-4fb8-9ca5-6f851621efdc",
   "metadata": {},
   "outputs": [],
   "source": [
    "#Implement a generator that returns all numbers from (n) down to 0.\n",
    "#def returning(n):\n",
    "#    for i in range(n+1, -1, -1):\n",
    "#        yield i\n",
    "#ret = returning(9)\n",
    "#for i in range(11):\n",
    "#    print(next(ret))"
   ]
  },
  {
   "cell_type": "code",
   "execution_count": null,
   "id": "f45c0ec9-70e3-4fef-9cd7-59e2f8b6ab0d",
   "metadata": {},
   "outputs": [],
   "source": [
    "#Implement a generator called squares to yield the square of all numbers from (a) to (b). \n",
    "#Test it with a \"for\" loop and print each of the yielded values.\n",
    "#def squares_inrange(a, b):\n",
    "#    for i in range(a, b+1):\n",
    "#        yield (i*i)\n",
    "#squares = squares_inrange(2, 10)\n",
    "#for i in range(2, 11):\n",
    "#    print(next(squares))"
   ]
  },
  {
   "cell_type": "code",
   "execution_count": null,
   "id": "c745bf61-1e72-422c-a558-8a7287ba731a",
   "metadata": {},
   "outputs": [],
   "source": [
    "#MATH EXERCISES"
   ]
  },
  {
   "cell_type": "code",
   "execution_count": null,
   "id": "ff3e5177-b379-480e-b9b0-f2e23a0f7012",
   "metadata": {},
   "outputs": [],
   "source": [
    "#Write a Python program to calculate the area of regular polygon.\n",
    "#\"\"\"\n",
    "#Input number of sides: 4\n",
    "#Input the length of a side: 25\n",
    "#The area of the polygon is: 625\n",
    "#\"\"\"\n",
    "#from math import *\n",
    "#n = int(input())\n",
    "#l = int(input())\n",
    "#print(\"Input number of sides:\", n)\n",
    "#print(\"Input the length of a side:\", l)\n",
    "#a = l/(2*tan(radians(180/n)))\n",
    "#A = (n * l * a)*1/2\n",
    "#print(\"The area of the polygon is:\", A)"
   ]
  },
  {
   "cell_type": "code",
   "execution_count": null,
   "id": "67d065e0-4ba5-4eee-8bfa-2ba9b9511c93",
   "metadata": {},
   "outputs": [],
   "source": [
    "#Write a Python program to convert degree to radian.\n",
    "#\"\"\"\n",
    "#Input degree: 15\n",
    "#Output radian: 0.261904\n",
    "\"\"\"\n",
    "from math import *\n",
    "n = int(input())\n",
    "print(\"Input degree:\", n)\n",
    "print(\"Output radian:\", radians(n))"
   ]
  },
  {
   "cell_type": "code",
   "execution_count": null,
   "id": "602aecef-60ce-46b3-b3c4-7c9462c8e767",
   "metadata": {},
   "outputs": [],
   "source": [
    "#Write a Python program to calculate the area of a trapezoid.\n",
    "\"\"\"\n",
    "Height: 5\n",
    "Base, first value: 5\n",
    "Base, second value: 6\n",
    "Expected Output: 27.5\n",
    "\"\"\"\n",
    "h = int(input())\n",
    "b1 = int(input())\n",
    "b2 = int(input())\n",
    "\n",
    "print(\"Height:\", h)\n",
    "print(\"Base, first value:\", b1)\n",
    "print(\"Base, second value:\", b2)\n",
    "A = ((b1+b2)/2)*h\n",
    "print(\"Expected Output:\", A)"
   ]
  },
  {
   "cell_type": "code",
   "execution_count": null,
   "id": "8470706d-d731-4c25-a08f-6412da563bf5",
   "metadata": {},
   "outputs": [],
   "source": [
    "#Write a Python program to calculate the area of a parallelogram.\n",
    "\"\"\"\n",
    "Length of base: 5\n",
    "Height of parallelogram: 6\n",
    "Expected Output: 30.0\n",
    "\"\"\"\n",
    "b = int(input())\n",
    "h = int(input())\n",
    "A = b * h\n",
    "print(\"Length of base:\", b)\n",
    "print(\"Height of parallelogram:\", h)\n",
    "print(\"Expected Output:\", A)"
   ]
  },
  {
   "cell_type": "code",
   "execution_count": 13,
   "id": "86947afa-8c59-4ee0-a61d-88c951503bc9",
   "metadata": {},
   "outputs": [
    {
     "name": "stdout",
     "output_type": "stream",
     "text": [
      "1\n",
      "4\n",
      "9\n",
      "16\n",
      "25\n"
     ]
    }
   ],
   "source": [
    "#Create a generator that generates the squares of numbers up to some number N.\n",
    "\n",
    "def generator(n):\n",
    "    for i in range(1, n+1):\n",
    "        yield i**2\n",
    "\n",
    "makeSquares = generator(5)\n",
    "for i in range(5):\n",
    "    print(next(makeSquares))"
   ]
  }
 ],
 "metadata": {
  "kernelspec": {
   "display_name": "Python [conda env:base] *",
   "language": "python",
   "name": "conda-base-py"
  },
  "language_info": {
   "codemirror_mode": {
    "name": "ipython",
    "version": 3
   },
   "file_extension": ".py",
   "mimetype": "text/x-python",
   "name": "python",
   "nbconvert_exporter": "python",
   "pygments_lexer": "ipython3",
   "version": "3.12.7"
  }
 },
 "nbformat": 4,
 "nbformat_minor": 5
}
