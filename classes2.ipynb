{
 "cells": [
  {
   "cell_type": "code",
   "execution_count": null,
   "id": "ccbc0804-4c34-4a7f-9b7d-25908281e988",
   "metadata": {},
   "outputs": [],
   "source": [
    "#Define a class named \"Shape\" and its subclass Square.The Square class has an init function which takes a length as argument. \n",
    "#Both classes have a area function which can print the area of the shape where Shape's area is 0 by default.\n",
    "\n",
    "class Shape:\n",
    "    def __init__(self):\n",
    "        self.area = 0\n",
    "\n",
    "class Square(Shape):\n",
    "    def __init__(self, length):\n",
    "        super().__init__()\n",
    "        self.length = length\n",
    "\n",
    "    def getLength(self):\n",
    "        self.length = int(input())\n",
    "\n",
    "    def calculateArea(self):\n",
    "        self.area = self.length * self.length\n",
    "        return self.area\n",
    "a = Square(0)\n",
    "a.getLength()\n",
    "print(a.calculateArea())"
   ]
  },
  {
   "cell_type": "code",
   "execution_count": null,
   "id": "23006e5a-948d-4097-bc86-7597db754553",
   "metadata": {},
   "outputs": [],
   "source": []
  }
 ],
 "metadata": {
  "kernelspec": {
   "display_name": "Python [conda env:base] *",
   "language": "python",
   "name": "conda-base-py"
  },
  "language_info": {
   "codemirror_mode": {
    "name": "ipython",
    "version": 3
   },
   "file_extension": ".py",
   "mimetype": "text/x-python",
   "name": "python",
   "nbconvert_exporter": "python",
   "pygments_lexer": "ipython3",
   "version": "3.12.7"
  }
 },
 "nbformat": 4,
 "nbformat_minor": 5
}
