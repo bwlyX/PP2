{
 "cells": [
  {
   "cell_type": "code",
   "execution_count": 1,
   "id": "cad5b5ef-914e-4a42-b0c4-f72dd9626803",
   "metadata": {},
   "outputs": [
    {
     "name": "stdin",
     "output_type": "stream",
     "text": [
      " I can not kill him\n"
     ]
    },
    {
     "name": "stdout",
     "output_type": "stream",
     "text": [
      "him kill not can I\n"
     ]
    }
   ],
   "source": [
    "#Write a function that accepts string from user,return a sentence with the words reversed. We are ready -> ready are We\n",
    "\n",
    "def reversed_words(s):\n",
    "    l=[]\n",
    "    t=\"\"\n",
    "    for x in s:\n",
    "        \n",
    "        if x==\" \":\n",
    "            l.append(t)\n",
    "            t=\"\"\n",
    "            continue\n",
    "        t+=x\n",
    "            \n",
    "    l.append(t)\n",
    "    l.reverse()\n",
    "    return l\n",
    "\n",
    "s=input()\n",
    "l=[]\n",
    "print(' '.join(reversed_words(s)))"
   ]
  },
  {
   "cell_type": "code",
   "execution_count": null,
   "id": "6430accf-7785-49ae-a551-6c6a2ddc6eb9",
   "metadata": {},
   "outputs": [],
   "source": []
  }
 ],
 "metadata": {
  "kernelspec": {
   "display_name": "Python [conda env:base] *",
   "language": "python",
   "name": "conda-base-py"
  },
  "language_info": {
   "codemirror_mode": {
    "name": "ipython",
    "version": 3
   },
   "file_extension": ".py",
   "mimetype": "text/x-python",
   "name": "python",
   "nbconvert_exporter": "python",
   "pygments_lexer": "ipython3",
   "version": "3.12.7"
  }
 },
 "nbformat": 4,
 "nbformat_minor": 5
}
