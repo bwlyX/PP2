{
 "cells": [
  {
   "cell_type": "code",
   "execution_count": 1,
   "id": "124bc0b8-07ae-43d5-9f3f-d7af9315ac95",
   "metadata": {},
   "outputs": [
    {
     "name": "stdin",
     "output_type": "stream",
     "text": [
      "Choose: \n",
      "Thriller, Drama, Biography, Action, Horror, Comedy, Animation, Crime:  Comedy\n"
     ]
    },
    {
     "name": "stdout",
     "output_type": "stream",
     "text": [
      "5.266666666666667\n"
     ]
    }
   ],
   "source": [
    "#Movies 5_th exercise: Write a function that takes a category and computes the average IMDB score\n",
    "\n",
    "def av_categ_sc(movie, categ):\n",
    "    sum=0\n",
    "    s=0\n",
    "    for x in movie:\n",
    "        if x[\"category\"]==categ:\n",
    "            sum+=x[\"imdb\"]\n",
    "            s+=1\n",
    "    av=sum/s\n",
    "    return av\n",
    "\n",
    "\n",
    "movies = [\n",
    "    {\n",
    "        \"name\": \"Fight Club\",\n",
    "        \"imdb\": 8.8,\n",
    "        \"category\": \"Drama\"\n",
    "    },\n",
    "    {\n",
    "        \"name\": \"The Intouchables\",\n",
    "        \"imdb\": 8.5,\n",
    "        \"category\": \"Biography\"\n",
    "    },\n",
    "    {\n",
    "        \"name\": \"Requiem for a Dream\",\n",
    "        \"imdb\": 8.3,\n",
    "        \"category\": \"Drama\"\n",
    "    },\n",
    "    {\n",
    "        \"name\": \"The Karate Kid\",\n",
    "        \"imdb\": 7.2,\n",
    "        \"category\": \"Action\"\n",
    "    },\n",
    "    {\n",
    "        \"name\": \"Saw\",\n",
    "        \"imdb\": 7.6,\n",
    "        \"category\": \"Horror\"\n",
    "    },\n",
    "    {\n",
    "        \"name\": \"Final Destination\",\n",
    "        \"imdb\": 6.7,\n",
    "        \"category\": \"Horror\"\n",
    "    },\n",
    "    {\n",
    "        \"name\": \"Scary Movie\",\n",
    "        \"imdb\": 6.2,\n",
    "        \"category\": \"Comedy\"\n",
    "    },\n",
    "    {\n",
    "        \"name\": \"Dumb and Dumber\",\n",
    "        \"imdb\": 7.3,\n",
    "        \"category\": \"Comedy\"\n",
    "    },\n",
    "    {\n",
    "        \"name\": \"It\",\n",
    "        \"imdb\": 7.3,\n",
    "        \"category\": \"Horror\"\n",
    "    },\n",
    "    {\n",
    "        \"name\": \"BoJack Horseman\",\n",
    "        \"imdb\": 8.8,\n",
    "        \"category\": \"Animation\"\n",
    "    },\n",
    "    {\n",
    "        \"name\": \"Rick and Morty\",\n",
    "        \"imdb\": 9.1,\n",
    "        \"category\": \"Animation\"\n",
    "    },\n",
    "    {\n",
    "        \"name\": \"Breaking Bad\",\n",
    "        \"imdb\": 9.5,\n",
    "        \"category\": \"Crime\"\n",
    "    },\n",
    "    {\n",
    "        \"name\": \"The Boys\",\n",
    "        \"imdb\": 8.7,\n",
    "        \"category\": \"Action\"\n",
    "    },\n",
    "    {\n",
    "        \"name\": \"Disaster Movie\",\n",
    "        \"imdb\": 2.3,\n",
    "        \"category\": \"Comedy\"\n",
    "    }\n",
    "]\n",
    "\n",
    "categ=input(\"Choose: \\nThriller, Drama, Biography, Action, Horror, Comedy, Animation, Crime: \")\n",
    "print(av_categ_sc(movies, categ))"
   ]
  },
  {
   "cell_type": "code",
   "execution_count": null,
   "id": "5c02904e-b112-40a1-af7d-a9dd4ccb4fab",
   "metadata": {},
   "outputs": [],
   "source": []
  }
 ],
 "metadata": {
  "kernelspec": {
   "display_name": "Python [conda env:base] *",
   "language": "python",
   "name": "conda-base-py"
  },
  "language_info": {
   "codemirror_mode": {
    "name": "ipython",
    "version": 3
   },
   "file_extension": ".py",
   "mimetype": "text/x-python",
   "name": "python",
   "nbconvert_exporter": "python",
   "pygments_lexer": "ipython3",
   "version": "3.12.7"
  }
 },
 "nbformat": 4,
 "nbformat_minor": 5
}
