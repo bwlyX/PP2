{
 "cells": [
  {
   "cell_type": "code",
   "execution_count": 1,
   "id": "8385f15f-7029-4a1e-b507-6e54dc8c31ce",
   "metadata": {},
   "outputs": [
    {
     "name": "stdin",
     "output_type": "stream",
     "text": [
      " 55667\n"
     ]
    },
    {
     "name": "stdout",
     "output_type": "stream",
     "text": [
      "30908.333333333336\n"
     ]
    }
   ],
   "source": [
    "#Read in a Fahrenheit temperature. Calculate and display the equivalent centigrade temperature. \n",
    "#The following formula is used for the conversion: C = (5 / 9) * (F – 32)\n",
    "\n",
    "def Fahrenheit(F):\n",
    "    C=(5/9)*(F-32)\n",
    "    print(C)\n",
    "\n",
    "F=float(input())\n",
    "Fahrenheit(F)"
   ]
  },
  {
   "cell_type": "code",
   "execution_count": null,
   "id": "14a80d23-50e8-495c-9234-5c636c9ab77a",
   "metadata": {},
   "outputs": [],
   "source": []
  }
 ],
 "metadata": {
  "kernelspec": {
   "display_name": "Python [conda env:base] *",
   "language": "python",
   "name": "conda-base-py"
  },
  "language_info": {
   "codemirror_mode": {
    "name": "ipython",
    "version": 3
   },
   "file_extension": ".py",
   "mimetype": "text/x-python",
   "name": "python",
   "nbconvert_exporter": "python",
   "pygments_lexer": "ipython3",
   "version": "3.12.7"
  }
 },
 "nbformat": 4,
 "nbformat_minor": 5
}
