{
 "cells": [
  {
   "cell_type": "code",
   "execution_count": 1,
   "id": "8cfdcb1a-48d6-41fe-99ca-daa836938d9f",
   "metadata": {},
   "outputs": [
    {
     "name": "stdout",
     "output_type": "stream",
     "text": [
      "****\n",
      "*********\n",
      "*******\n"
     ]
    }
   ],
   "source": [
    "#Define a functino histogram() that takes a list of integers and prints a histogram to the screen. \n",
    "#For example, histogram([4, 9, 7]) should print the following:\n",
    "\n",
    "\"\"\"\n",
    "****\n",
    "*********\n",
    "*******\n",
    "\"\"\"\n",
    "def histogram(l):\n",
    "    for i in l:\n",
    "        print(\"*\"*i)\n",
    "    \n",
    "l=[4, 9, 7]\n",
    "histogram(l)"
   ]
  },
  {
   "cell_type": "code",
   "execution_count": null,
   "id": "1207ec99-e2ac-44fc-a6a3-6b75cb911016",
   "metadata": {},
   "outputs": [],
   "source": []
  }
 ],
 "metadata": {
  "kernelspec": {
   "display_name": "Python [conda env:base] *",
   "language": "python",
   "name": "conda-base-py"
  },
  "language_info": {
   "codemirror_mode": {
    "name": "ipython",
    "version": 3
   },
   "file_extension": ".py",
   "mimetype": "text/x-python",
   "name": "python",
   "nbconvert_exporter": "python",
   "pygments_lexer": "ipython3",
   "version": "3.12.7"
  }
 },
 "nbformat": 4,
 "nbformat_minor": 5
}
