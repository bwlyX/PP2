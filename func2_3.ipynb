{
 "cells": [
  {
   "cell_type": "code",
   "execution_count": 3,
   "id": "5d9c9a0b-ef9c-4bd3-bba8-88d7057c2afc",
   "metadata": {},
   "outputs": [
    {
     "name": "stdin",
     "output_type": "stream",
     "text": [
      "Choose: \n",
      "Thriller, Drama, Biography, Action, Horror, Comedy, Animation, Crime:  Drama\n"
     ]
    },
    {
     "name": "stdout",
     "output_type": "stream",
     "text": [
      "['Fight Club', 'Requiem for a Dream']\n"
     ]
    }
   ],
   "source": [
    "#Movies 3_rd exercise: Write a function that takes a category name and returns just those movies under that category\n",
    "\n",
    "def equal_category(movies, categ):\n",
    "    l=[]\n",
    "    for x in movies:\n",
    "        if x[\"category\"]==categ:\n",
    "            l.append(x[\"name\"])\n",
    "    return l\n",
    "\n",
    "movies = [\n",
    "    {\n",
    "        \"name\": \"Fight Club\",\n",
    "        \"imdb\": 8.8,\n",
    "        \"category\": \"Drama\"\n",
    "    },\n",
    "    {\n",
    "        \"name\": \"The Intouchables\",\n",
    "        \"imdb\": 8.5,\n",
    "        \"category\": \"Biography\"\n",
    "    },\n",
    "    {\n",
    "        \"name\": \"Requiem for a Dream\",\n",
    "        \"imdb\": 8.3,\n",
    "        \"category\": \"Drama\"\n",
    "    },\n",
    "    {\n",
    "        \"name\": \"The Karate Kid\",\n",
    "        \"imdb\": 7.2,\n",
    "        \"category\": \"Action\"\n",
    "    },\n",
    "    {\n",
    "        \"name\": \"Saw\",\n",
    "        \"imdb\": 7.6,\n",
    "        \"category\": \"Horror\"\n",
    "    },\n",
    "    {\n",
    "        \"name\": \"Final Destination\",\n",
    "        \"imdb\": 6.7,\n",
    "        \"category\": \"Horror\"\n",
    "    },\n",
    "    {\n",
    "        \"name\": \"Scary Movie\",\n",
    "        \"imdb\": 6.2,\n",
    "        \"category\": \"Comedy\"\n",
    "    },\n",
    "    {\n",
    "        \"name\": \"Dumb and Dumber\",\n",
    "        \"imdb\": 7.3,\n",
    "        \"category\": \"Comedy\"\n",
    "    },\n",
    "    {\n",
    "        \"name\": \"It\",\n",
    "        \"imdb\": 7.3,\n",
    "        \"category\": \"Horror\"\n",
    "    },\n",
    "    {\n",
    "        \"name\": \"BoJack Horseman\",\n",
    "        \"imdb\": 8.8,\n",
    "        \"category\": \"Animation\"\n",
    "    },\n",
    "    {\n",
    "        \"name\": \"Rick and Morty\",\n",
    "        \"imdb\": 9.1,\n",
    "        \"category\": \"Animation\"\n",
    "    },\n",
    "    {\n",
    "        \"name\": \"Breaking Bad\",\n",
    "        \"imdb\": 9.5,\n",
    "        \"category\": \"Crime\"\n",
    "    },\n",
    "    {\n",
    "        \"name\": \"The Boys\",\n",
    "        \"imdb\": 8.7,\n",
    "        \"category\": \"Action\"\n",
    "    },\n",
    "    {\n",
    "        \"name\": \"Disaster Movie\",\n",
    "        \"imdb\": 2.3,\n",
    "        \"category\": \"Comedy\"\n",
    "    }\n",
    "]\n",
    "\n",
    "categ=input(\"Choose: \\nThriller, Drama, Biography, Action, Horror, Comedy, Animation, Crime: \")\n",
    "print(equal_category(movies, categ))"
   ]
  },
  {
   "cell_type": "code",
   "execution_count": null,
   "id": "f66887ee-4b8e-44ee-b6c0-5283ef982af0",
   "metadata": {},
   "outputs": [],
   "source": []
  }
 ],
 "metadata": {
  "kernelspec": {
   "display_name": "Python [conda env:base] *",
   "language": "python",
   "name": "conda-base-py"
  },
  "language_info": {
   "codemirror_mode": {
    "name": "ipython",
    "version": 3
   },
   "file_extension": ".py",
   "mimetype": "text/x-python",
   "name": "python",
   "nbconvert_exporter": "python",
   "pygments_lexer": "ipython3",
   "version": "3.12.7"
  }
 },
 "nbformat": 4,
 "nbformat_minor": 5
}
