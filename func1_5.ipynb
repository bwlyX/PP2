{
 "cells": [
  {
   "cell_type": "code",
   "execution_count": 3,
   "id": "0c6de3f5-c800-4f65-b869-ad91bc608cd1",
   "metadata": {},
   "outputs": [
    {
     "name": "stdin",
     "output_type": "stream",
     "text": [
      " eye\n"
     ]
    },
    {
     "name": "stdout",
     "output_type": "stream",
     "text": [
      "eye\n",
      "eey\n",
      "yee\n",
      "yee\n",
      "eey\n",
      "eye\n"
     ]
    }
   ],
   "source": [
    "#Write a function that accepts string from user and print all permutations of that string.\n",
    "\n",
    "from itertools import permutations\n",
    "\n",
    "def ppermutations(s):\n",
    "    perm = permutations(s)\n",
    "    for x in perm:\n",
    "        print(''.join(x))\n",
    "\n",
    "s=input()\n",
    "ppermutations(s)"
   ]
  },
  {
   "cell_type": "code",
   "execution_count": null,
   "id": "f7472c67-dc87-4ec5-93de-fc8f50186371",
   "metadata": {},
   "outputs": [],
   "source": []
  }
 ],
 "metadata": {
  "kernelspec": {
   "display_name": "Python [conda env:base] *",
   "language": "python",
   "name": "conda-base-py"
  },
  "language_info": {
   "codemirror_mode": {
    "name": "ipython",
    "version": 3
   },
   "file_extension": ".py",
   "mimetype": "text/x-python",
   "name": "python",
   "nbconvert_exporter": "python",
   "pygments_lexer": "ipython3",
   "version": "3.12.7"
  }
 },
 "nbformat": 4,
 "nbformat_minor": 5
}
