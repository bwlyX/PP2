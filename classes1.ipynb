{
 "cells": [
  {
   "cell_type": "code",
   "execution_count": null,
   "id": "f6920e74-f743-4ecd-8fb5-61fd465b9224",
   "metadata": {},
   "outputs": [],
   "source": [
    "#Define a class which has at least two methods: getString; to get a string from console input printString: to print the string in upper case.\n",
    "\n",
    "class twoMethods:\n",
    "    def __init__(self):\n",
    "        self.string=\"\"\n",
    "    def getString(self):\n",
    "        self.string=input()\n",
    "    def printString(self):\n",
    "        print(self.string.upper())\n",
    "\n",
    "x = twoMethods()\n",
    "x.getString()\n",
    "x.printString()"
   ]
  },
  {
   "cell_type": "code",
   "execution_count": null,
   "id": "c636ec02-6980-452e-a666-65851c0abac2",
   "metadata": {},
   "outputs": [],
   "source": []
  }
 ],
 "metadata": {
  "kernelspec": {
   "display_name": "Python [conda env:base] *",
   "language": "python",
   "name": "conda-base-py"
  },
  "language_info": {
   "codemirror_mode": {
    "name": "ipython",
    "version": 3
   },
   "file_extension": ".py",
   "mimetype": "text/x-python",
   "name": "python",
   "nbconvert_exporter": "python",
   "pygments_lexer": "ipython3",
   "version": "3.12.7"
  }
 },
 "nbformat": 4,
 "nbformat_minor": 5
}
