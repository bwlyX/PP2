{
 "cells": [
  {
   "cell_type": "code",
   "execution_count": null,
   "id": "2b2bc0b2-f93e-4bed-8b75-688f40ab0d1b",
   "metadata": {},
   "outputs": [],
   "source": [
    "#Write the definition of a Point class. Objects from this class should have a\n",
    "#a method show to display the coordinates of the point\n",
    "#a method move to change these coordinates\n",
    "#a method dist that computes the distance between 2 points\n",
    "\n",
    "from math import *\n",
    "class Point:\n",
    "    def __init__(self):\n",
    "        self.x1 = 0\n",
    "        self.y1 = 0\n",
    "        self.x2 = 0\n",
    "        self.y2 = 0\n",
    "\n",
    "    def getData(self):\n",
    "        self.x1 = int(input(\"x1: \"))\n",
    "        self.y1 = int(input(\"y1: \"))\n",
    "        self.x2 = int(input(\"x2: \"))\n",
    "        self.y2 = int(input(\"y2: \"))\n",
    "\n",
    "    def showCoordinates(self):\n",
    "        return self.x1, self.y1, self.x2, self.y2\n",
    "    \n",
    "    def changeCoordinates(self):\n",
    "        self.x1 = int(input(\"x1: \"))\n",
    "        self.y1 = int(input(\"y1: \"))\n",
    "        self.x2 = int(input(\"x2: \"))\n",
    "        self.y2 = int(input(\"y2: \"))\n",
    "    \n",
    "    def distCoordinates(self):\n",
    "        return sqrt((self.x2 - self.x1)**2 + (self.y2 - self.y1)**2)\n",
    "\n",
    "a = Point()\n",
    "a.getData()\n",
    "print(\"Coordinata: {}\".format(a.showCoordinates()))\n",
    "a.changeCoordinates()\n",
    "print(\"New coordinata {}\".format(a.showCoordinates()))\n",
    "print(\"Distation: {}\".format(a.distCoordinates()))"
   ]
  }
 ],
 "metadata": {
  "kernelspec": {
   "display_name": "Python [conda env:base] *",
   "language": "python",
   "name": "conda-base-py"
  },
  "language_info": {
   "codemirror_mode": {
    "name": "ipython",
    "version": 3
   },
   "file_extension": ".py",
   "mimetype": "text/x-python",
   "name": "python",
   "nbconvert_exporter": "python",
   "pygments_lexer": "ipython3",
   "version": "3.12.7"
  }
 },
 "nbformat": 4,
 "nbformat_minor": 5
}
