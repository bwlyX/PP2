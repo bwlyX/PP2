{
 "cells": [
  {
   "cell_type": "code",
   "execution_count": 3,
   "id": "01fca81d-c898-424b-b9c5-753a386f1043",
   "metadata": {},
   "outputs": [
    {
     "name": "stdout",
     "output_type": "stream",
     "text": [
      "True\n",
      "False\n",
      "False\n"
     ]
    }
   ],
   "source": [
    "#Given a list of ints, return True if the array contains a 3 next to a 3 somewhere.\n",
    "\n",
    "\"\"\"\n",
    "def has_33(nums):\n",
    "    pass\n",
    "\n",
    "has_33([1, 3, 3]) → True\n",
    "has_33([1, 3, 1, 3]) → False\n",
    "has_33([3, 1, 3]) → False\n",
    "\"\"\"\n",
    "\n",
    "def has_33(nums):\n",
    "    for i in range(len(nums)-1):\n",
    "        if nums[i]==3 and nums[i+1]==3:\n",
    "            return True\n",
    "    return False\n",
    "    \n",
    "print(has_33([1, 3, 3]))\n",
    "print(has_33([1, 3, 1, 3]))\n",
    "print(has_33([3, 1, 3]))"
   ]
  },
  {
   "cell_type": "code",
   "execution_count": null,
   "id": "3ef83e80-2a9a-48eb-9044-ff2a24fbc949",
   "metadata": {},
   "outputs": [],
   "source": []
  }
 ],
 "metadata": {
  "kernelspec": {
   "display_name": "Python [conda env:base] *",
   "language": "python",
   "name": "conda-base-py"
  },
  "language_info": {
   "codemirror_mode": {
    "name": "ipython",
    "version": 3
   },
   "file_extension": ".py",
   "mimetype": "text/x-python",
   "name": "python",
   "nbconvert_exporter": "python",
   "pygments_lexer": "ipython3",
   "version": "3.12.7"
  }
 },
 "nbformat": 4,
 "nbformat_minor": 5
}
