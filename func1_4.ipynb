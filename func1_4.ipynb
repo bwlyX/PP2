{
 "cells": [
  {
   "cell_type": "code",
   "execution_count": 1,
   "id": "f6ec2275-6cc3-4d11-a3fe-a253a5f00329",
   "metadata": {},
   "outputs": [
    {
     "name": "stdin",
     "output_type": "stream",
     "text": [
      " 1 2 3 4 5 6 7 8 9 10\n"
     ]
    },
    {
     "name": "stdout",
     "output_type": "stream",
     "text": [
      "[2, 3, 5, 7]\n"
     ]
    }
   ],
   "source": [
    "#You are given list of numbers separated by spaces.\n",
    "#Write a function filter_prime, which will take list of numbers as an agrument and returns only prime numbers from the list\n",
    "\n",
    "import math\n",
    "\n",
    "def prime(a):\n",
    "    if a < 2:\n",
    "        return False\n",
    "    if a == 2:\n",
    "        return True\n",
    "    if a % 2 == 0:\n",
    "        return False\n",
    "    n = int(math.sqrt(a))\n",
    "    for i in range(3, n+1, 2):\n",
    "        if a %i==0:\n",
    "            return False\n",
    "    return True\n",
    "\n",
    "def filter_prime(b):\n",
    "    return [i for i in b if prime(i)]\n",
    "\n",
    "l = list(map(int, input().split()))\n",
    "print(filter_prime(l))"
   ]
  },
  {
   "cell_type": "code",
   "execution_count": null,
   "id": "33fa2146-c88d-4fe9-b59d-cd5344e80261",
   "metadata": {},
   "outputs": [],
   "source": []
  }
 ],
 "metadata": {
  "kernelspec": {
   "display_name": "Python [conda env:base] *",
   "language": "python",
   "name": "conda-base-py"
  },
  "language_info": {
   "codemirror_mode": {
    "name": "ipython",
    "version": 3
   },
   "file_extension": ".py",
   "mimetype": "text/x-python",
   "name": "python",
   "nbconvert_exporter": "python",
   "pygments_lexer": "ipython3",
   "version": "3.12.7"
  }
 },
 "nbformat": 4,
 "nbformat_minor": 5
}
