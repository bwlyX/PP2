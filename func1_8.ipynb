{
 "cells": [
  {
   "cell_type": "code",
   "execution_count": 1,
   "id": "c0af01b1-8292-4113-bdfd-1b3e47d3dba5",
   "metadata": {},
   "outputs": [
    {
     "name": "stdout",
     "output_type": "stream",
     "text": [
      "True\n",
      "True\n",
      "False\n"
     ]
    }
   ],
   "source": [
    "#Write a function that takes in a list of integers and returns True if it contains 007 in order\n",
    "\n",
    "\"\"\"\n",
    "def spy_game(nums):\n",
    "    pass\n",
    "\n",
    "spy_game([1,2,4,0,0,7,5]) --> True\n",
    "spy_game([1,0,2,4,0,5,7]) --> True\n",
    "spy_game([1,7,2,0,4,5,0]) --> False\n",
    "\"\"\"\n",
    "def spy_game(nums):    \n",
    "    zero_1, zero_2 ,seven = False, False, False\n",
    "    for i in nums:\n",
    "        if i ==0:\n",
    "            if zero_1:\n",
    "                zero_2 = True\n",
    "            else:\n",
    "                zero_1 = True\n",
    "        if zero_1 and zero_2 and i == 7:\n",
    "            seven  = True\n",
    "        if zero_1 and zero_2 and seven:\n",
    "            return True\n",
    "    return False\n",
    "\n",
    "print(spy_game([1,2,4,0,0,7,5]))\n",
    "print(spy_game([1,0,2,4,0,5,7]))\n",
    "print(spy_game([1,7,2,0,4,5,0]))"
   ]
  },
  {
   "cell_type": "code",
   "execution_count": null,
   "id": "9c173e0e-3f2c-4cae-a52b-4b77aaf4e515",
   "metadata": {},
   "outputs": [],
   "source": []
  }
 ],
 "metadata": {
  "kernelspec": {
   "display_name": "Python [conda env:base] *",
   "language": "python",
   "name": "conda-base-py"
  },
  "language_info": {
   "codemirror_mode": {
    "name": "ipython",
    "version": 3
   },
   "file_extension": ".py",
   "mimetype": "text/x-python",
   "name": "python",
   "nbconvert_exporter": "python",
   "pygments_lexer": "ipython3",
   "version": "3.12.7"
  }
 },
 "nbformat": 4,
 "nbformat_minor": 5
}
