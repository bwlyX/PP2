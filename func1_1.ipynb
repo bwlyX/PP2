{
 "cells": [
  {
   "cell_type": "code",
   "execution_count": 1,
   "id": "d26f20e8-8c63-46da-b242-68e2044d7541",
   "metadata": {},
   "outputs": [
    {
     "name": "stdin",
     "output_type": "stream",
     "text": [
      " 222332\n"
     ]
    },
    {
     "name": "stdout",
     "output_type": "stream",
     "text": [
      "6303006.169869199\n"
     ]
    }
   ],
   "source": [
    "#A recipe you are reading states how many grams you need for the ingredient. Unfortunately, your store only sells items in ounces. \n",
    "#Create a function to convert grams to ounces. ounces = 28.3495231 * grams\n",
    "\n",
    "def ounces(grams):\n",
    "    print(28.3495231*grams)\n",
    "\n",
    "grams=float(input())\n",
    "ounces(grams)"
   ]
  },
  {
   "cell_type": "code",
   "execution_count": null,
   "id": "bfa11cb4-9f86-4dd8-ac9f-5dccfe613912",
   "metadata": {},
   "outputs": [],
   "source": []
  }
 ],
 "metadata": {
  "kernelspec": {
   "display_name": "Python [conda env:base] *",
   "language": "python",
   "name": "conda-base-py"
  },
  "language_info": {
   "codemirror_mode": {
    "name": "ipython",
    "version": 3
   },
   "file_extension": ".py",
   "mimetype": "text/x-python",
   "name": "python",
   "nbconvert_exporter": "python",
   "pygments_lexer": "ipython3",
   "version": "3.12.7"
  }
 },
 "nbformat": 4,
 "nbformat_minor": 5
}
