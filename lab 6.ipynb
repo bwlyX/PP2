{
 "cells": [
  {
   "cell_type": "code",
   "execution_count": null,
   "id": "982f2620-ad89-4e85-86f6-a51bd51b5a0c",
   "metadata": {},
   "outputs": [],
   "source": [
    "from functools import reduce\n",
    "\n",
    "numbers = [2, 3, 4, 5]\n",
    "result = reduce(lambda x, y: x * y, numbers)\n",
    "print(result) "
   ]
  },
  {
   "cell_type": "code",
   "execution_count": null,
   "id": "ce04dfab-b6f4-4a46-8fe6-8617be6414da",
   "metadata": {},
   "outputs": [],
   "source": [
    "def count_case(s):\n",
    "    upper = sum(1 for c in s if c.isupper())\n",
    "    lower = sum(1 for c in s if c.islower())\n",
    "    return upper, lower\n",
    "\n",
    "text = \"Hello World!\"\n",
    "upper_count, lower_count = count_case(text)\n",
    "print(f\"Upper case: {upper_count}, Lower case: {lower_count}\")"
   ]
  },
  {
   "cell_type": "code",
   "execution_count": null,
   "id": "12f8aa7a-dc8d-45d5-86d3-d7474f1a5a61",
   "metadata": {},
   "outputs": [],
   "source": [
    "def is_palindrome(s):\n",
    "    return s == s[::-1]\n",
    "\n",
    "word = \"radar\"\n",
    "print(is_palindrome(word))  "
   ]
  },
  {
   "cell_type": "code",
   "execution_count": null,
   "id": "5e35bb3f-512c-4ada-9cd2-0f150fa6e5ba",
   "metadata": {},
   "outputs": [],
   "source": [
    "import time\n",
    "import math\n",
    "\n",
    "def delayed_sqrt(number, delay):\n",
    "    time.sleep(delay / 1000) \n",
    "    return math.sqrt(number)\n",
    "\n",
    "num = 25100\n",
    "delay_ms = 2123\n",
    "result = delayed_sqrt(num, delay_ms)\n",
    "print(f\"Square root of {num} after {delay_ms} milliseconds is {result}\")"
   ]
  },
  {
   "cell_type": "code",
   "execution_count": null,
   "id": "87fd5959-74ea-4d12-a6b4-0476ad0a22f3",
   "metadata": {},
   "outputs": [],
   "source": [
    "def all_true(t):\n",
    "    return all(t)\n",
    "\n",
    "values = (True, True, False)\n",
    "print(all_true(values))  "
   ]
  },
  {
   "cell_type": "code",
   "execution_count": null,
   "id": "8abffa14-5658-49a0-b4b3-e8c249e372bf",
   "metadata": {},
   "outputs": [],
   "source": [
    "import os\n",
    "\n",
    "path = \".\"  \n",
    "\n",
    "print(\"Directories:\", [d for d in os.listdir(path) if os.path.isdir(os.path.join(path, d))])\n",
    "print(\"Files:\", [f for f in os.listdir(path) if os.path.isfile(os.path.join(path, f))])\n",
    "print(\"All:\", os.listdir(path))"
   ]
  },
  {
   "cell_type": "code",
   "execution_count": null,
   "id": "b840c3d6-3c15-439e-b9e8-a166350b1c63",
   "metadata": {},
   "outputs": [],
   "source": [
    "import os\n",
    "\n",
    "path = \"example.txt\" \n",
    "\n",
    "print(\"Exists:\", os.path.exists(path))\n",
    "print(\"Readable:\", os.access(path, os.R_OK))\n",
    "print(\"Writable:\", os.access(path, os.W_OK))\n",
    "print(\"Executable:\", os.access(path, os.X_OK))"
   ]
  },
  {
   "cell_type": "code",
   "execution_count": null,
   "id": "27e98131-ae73-47e2-a8c6-0ebd1a7de4ad",
   "metadata": {},
   "outputs": [],
   "source": [
    "import os\n",
    "\n",
    "path = \"example.txt\" \n",
    "\n",
    "if os.path.exists(path):\n",
    "    print(\"File exists\")\n",
    "    print(\"Directory:\", os.path.dirname(path))\n",
    "    print(\"Filename:\", os.path.basename(path))\n",
    "else:\n",
    "    print(\"Path does not exist\")"
   ]
  },
  {
   "cell_type": "code",
   "execution_count": null,
   "id": "567604ae-cab7-429b-80fe-857e1a7c634c",
   "metadata": {},
   "outputs": [],
   "source": [
    "file_path = \"example.txt\" \n",
    "\n",
    "with open(file_path, \"r\") as file:\n",
    "    line_count = sum(1 for _ in file)\n",
    "\n",
    "print(\"Number of lines:\", line_count)"
   ]
  },
  {
   "cell_type": "code",
   "execution_count": null,
   "id": "aeae711b-aecb-4d38-815d-d96b6f6a0359",
   "metadata": {},
   "outputs": [],
   "source": [
    "data = [\"Hello\", \"World\", \"Python\"]\n",
    "\n",
    "with open(\"output.txt\", \"w\") as file:\n",
    "    file.writelines(\"\\n\".join(data))"
   ]
  },
  {
   "cell_type": "code",
   "execution_count": null,
   "id": "7ad3ffe5-ffb3-48a4-8626-b9a46d5c1c5d",
   "metadata": {},
   "outputs": [],
   "source": [
    "import string\n",
    "\n",
    "for letter in string.ascii_uppercase:\n",
    "    with open(f\"{letter}.txt\", \"w\") as file:\n",
    "        file.write(f\"File {letter}.txt\")"
   ]
  },
  {
   "cell_type": "code",
   "execution_count": null,
   "id": "b0bc04e5-107d-40a2-84a2-ff1d4704c9b7",
   "metadata": {},
   "outputs": [],
   "source": [
    "src = \"source.txt\"\n",
    "dest = \"destination.txt\"\n",
    "\n",
    "with open(src, \"r\") as source, open(dest, \"w\") as destination:\n",
    "    destination.write(source.read())"
   ]
  },
  {
   "cell_type": "code",
   "execution_count": null,
   "id": "a7f31dcf-2b59-4754-8528-90a6c1a6cb4b",
   "metadata": {},
   "outputs": [],
   "source": [
    "import os\n",
    "\n",
    "file_path = \"file_to_delete.txt\"  \n",
    "\n",
    "if os.path.exists(file_path) and os.access(file_path, os.W_OK):\n",
    "    os.remove(file_path)\n",
    "    print(\"File deleted\")\n",
    "else:\n",
    "    print(\"Cannot delete file\")"
   ]
  }
 ],
 "metadata": {
  "kernelspec": {
   "display_name": "Python [conda env:base] *",
   "language": "python",
   "name": "conda-base-py"
  },
  "language_info": {
   "codemirror_mode": {
    "name": "ipython",
    "version": 3
   },
   "file_extension": ".py",
   "mimetype": "text/x-python",
   "name": "python",
   "nbconvert_exporter": "python",
   "pygments_lexer": "ipython3",
   "version": "3.12.7"
  }
 },
 "nbformat": 4,
 "nbformat_minor": 5
}
