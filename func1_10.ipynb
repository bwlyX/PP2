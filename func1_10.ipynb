{
 "cells": [
  {
   "cell_type": "code",
   "execution_count": 1,
   "id": "66b79b10-802f-417b-a842-f7e9330d4c30",
   "metadata": {},
   "outputs": [
    {
     "name": "stdout",
     "output_type": "stream",
     "text": [
      "[3, 5, 7, 4]\n"
     ]
    }
   ],
   "source": [
    "#Write a Python function that takes a list and returns a new list with unique elements of the first list. Note: don't use collection set\n",
    "\n",
    "def unique_list(list_1):\n",
    "    list_2=[]\n",
    "    for x in list_1:\n",
    "        if x not in list_2:\n",
    "            list_2.append(x)\n",
    "    return list_2\n",
    "\n",
    "list_1=[3, 3, 3, 5, 7, 3, 4]\n",
    "print(unique_list(list_1))"
   ]
  },
  {
   "cell_type": "code",
   "execution_count": null,
   "id": "e0997979-5e7a-4f7f-a072-ce24e35fb699",
   "metadata": {},
   "outputs": [],
   "source": []
  },
  {
   "cell_type": "code",
   "execution_count": null,
   "id": "531b6abd-64f1-458d-b15e-2c09e1b39b59",
   "metadata": {},
   "outputs": [],
   "source": []
  }
 ],
 "metadata": {
  "kernelspec": {
   "display_name": "Python [conda env:base] *",
   "language": "python",
   "name": "conda-base-py"
  },
  "language_info": {
   "codemirror_mode": {
    "name": "ipython",
    "version": 3
   },
   "file_extension": ".py",
   "mimetype": "text/x-python",
   "name": "python",
   "nbconvert_exporter": "python",
   "pygments_lexer": "ipython3",
   "version": "3.12.7"
  }
 },
 "nbformat": 4,
 "nbformat_minor": 5
}
