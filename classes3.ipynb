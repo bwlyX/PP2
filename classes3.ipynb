{
 "cells": [
  {
   "cell_type": "code",
   "execution_count": null,
   "id": "ec83e548-ba38-49fe-a36c-04b244e452e3",
   "metadata": {},
   "outputs": [],
   "source": [
    "#Define a class named Rectangle which inherits from Shape class from task 2. \n",
    "#Class instance can be constructed by a length and width. The Rectangle class has a method which can compute the area.\n",
    "\n",
    "class Shape:\n",
    "    def __init__(self):\n",
    "        self.area = 0\n",
    "\n",
    "class Rectangle(Shape):\n",
    "    def __init__(self, width, length):\n",
    "        super().__init__()\n",
    "        self.width = width\n",
    "        self.length = length\n",
    "\n",
    "    def getParameters(self):\n",
    "        self.width = int(input(\"width: \"))\n",
    "        self.length = int(input(\"lenght: \"))\n",
    "\n",
    "    def printArea(self):\n",
    "        self.area = self.width * self.length\n",
    "        return self.area\n",
    "\n",
    "a = Rectangle(0,0)\n",
    "a.getParameters()\n",
    "print(\"Area is equal:\", a.printArea())"
   ]
  },
  {
   "cell_type": "code",
   "execution_count": null,
   "id": "58aa28c1-662e-4ea9-a792-ffce45b66178",
   "metadata": {},
   "outputs": [],
   "source": []
  }
 ],
 "metadata": {
  "kernelspec": {
   "display_name": "Python [conda env:base] *",
   "language": "python",
   "name": "conda-base-py"
  },
  "language_info": {
   "codemirror_mode": {
    "name": "ipython",
    "version": 3
   },
   "file_extension": ".py",
   "mimetype": "text/x-python",
   "name": "python",
   "nbconvert_exporter": "python",
   "pygments_lexer": "ipython3",
   "version": "3.12.7"
  }
 },
 "nbformat": 4,
 "nbformat_minor": 5
}
